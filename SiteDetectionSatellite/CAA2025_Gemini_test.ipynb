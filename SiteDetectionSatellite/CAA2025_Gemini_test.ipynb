{
  "cells": [
    {
      "cell_type": "markdown",
      "metadata": {
        "id": "view-in-github",
        "colab_type": "text"
      },
      "source": [
        "<a href=\"https://colab.research.google.com/github/juergenlandauer/caa2025/blob/main/SiteDetectionSatellite/CAA2025_Gemini_test.ipynb\" target=\"_parent\"><img src=\"https://colab.research.google.com/assets/colab-badge.svg\" alt=\"Open In Colab\"/></a>"
      ]
    },
    {
      "cell_type": "markdown",
      "source": [
        "# Automatic site detection in satellite and LiDAR images with Gemini by Google\n",
        "\n",
        "Author: Juergen Landauer (juergen (AT) landauer-ai.de)\n",
        "\n",
        "To start, first go to the \"Input parameters\" section below and review or (optionally) adjust parameters. Then run the entire Notebook by choosing Runtime->Run all in the menu above.\n"
      ],
      "metadata": {
        "id": "2dLqajW6fpzX"
      }
    },
    {
      "cell_type": "markdown",
      "metadata": {
        "id": "l8g4hTRotheH"
      },
      "source": [
        "### Set up your API key and install the Gemini Python SDK\n",
        "\n",
        "To access Gemini, you need to provide your Google Gemini API key. Follow these steps:\n",
        "\n",
        "- register with Google (also works with your Gmail account\n",
        "- Login here and get your API key: (https://aistudio.google.com/apikey)\n",
        "- Click `Copy`. This will place your private key in the clipboard.\n",
        "- In Colab, go to the left pane and click on `Secrets` (🔑).\n",
        "- Store Google API key under the name `GOOGLE_API_KEY`.\n",
        "\n",
        "Details are found here: https://github.com/google-gemini/gemini-api-cookbook/blob/main/quickstarts/Authentication.ipynb."
      ]
    },
    {
      "cell_type": "code",
      "source": [
        "!pip install -Uq google-generativeai"
      ],
      "metadata": {
        "id": "RsSHrM4ymXA_"
      },
      "execution_count": null,
      "outputs": []
    },
    {
      "cell_type": "code",
      "execution_count": null,
      "metadata": {
        "id": "d6lYXRcjthKV"
      },
      "outputs": [],
      "source": [
        "from google import genai\n",
        "from google.colab import userdata\n",
        "GOOGLE_API_KEY=userdata.get('GOOGLE_API_KEY')\n",
        "\n",
        "client = genai.Client(api_key=GOOGLE_API_KEY)"
      ]
    },
    {
      "cell_type": "markdown",
      "source": [
        "# Input parameters\n",
        "\n",
        "Review all parameters in this section and (optionally) adjust them on the right side. For example, you can upload your own input zip file by providing an URL."
      ],
      "metadata": {
        "id": "_Yr1IaV0_Lk7"
      }
    },
    {
      "cell_type": "markdown",
      "source": [
        "#### Demo with Bavarian castles for CAA2025\n",
        "\n",
        "Feel free to replace this with your own imagery by providing a download URL (e.g. from Google Drive)\n",
        "\n",
        "Note that the ZIP file must contain two sub-folders called \"sites\" and \"nonsites\", resp. Each folder must then contain images of sites or samples of other landscape (non-sites)\n"
      ],
      "metadata": {
        "id": "XiarFXMU6rmj"
      }
    },
    {
      "cell_type": "code",
      "source": [
        "INPUT_ZIP_URL = 'https://www.dropbox.com/scl/fi/uuirq92v5evwy8znojxje/sites.zip?rlkey=xycrlu44gdqmo5k5j439tzca7&dl=0' # @param {\"allow-input\":true}"
      ],
      "metadata": {
        "id": "4drqxQxQBotu"
      },
      "execution_count": null,
      "outputs": []
    },
    {
      "cell_type": "markdown",
      "source": [
        "#### The text 'prompt' send to the Foundation Model.\n",
        "\n",
        "Play with different variations of the text and don't forget to include the object type you are looking for."
      ],
      "metadata": {
        "id": "y_7102DV6545"
      }
    },
    {
      "cell_type": "code",
      "source": [
        "PROMPT = \"This is a satellite image from Germany possibly containing castles or ruins.\" # @param {\"allow-input\":true}\n"
      ],
      "metadata": {
        "id": "5BVD5mGME1ya"
      },
      "execution_count": null,
      "outputs": []
    },
    {
      "cell_type": "markdown",
      "source": [
        "This appendix to the prompt ensures that the AI response is formatted in the right way. Do NOT change this!!!"
      ],
      "metadata": {
        "id": "LPJj_5KwlDN5"
      }
    },
    {
      "cell_type": "code",
      "source": [
        "PROMPT += \" For each of the objects in this image return its type, its probability and bounding box.\""
      ],
      "metadata": {
        "id": "wlJfbiH97czk"
      },
      "execution_count": null,
      "outputs": []
    },
    {
      "cell_type": "markdown",
      "source": [
        "The text response from the AI is sometimes ambiguous. If you only (or \"strictly\") want to see certain types of responses, then keep this to True and provide a list of keywords you want to see in the output. Make sure you do not mess up the list syntax."
      ],
      "metadata": {
        "id": "xP3C63n08MzT"
      }
    },
    {
      "cell_type": "code",
      "source": [
        "STRICT_RESPONSE_FILTERING = True # @param ['True', 'False']\n",
        "\n",
        "FILTER_KEYWORDS = [\"castle\", \"ruin\"]  # @param {\"allow-input\":true}\n",
        "#FILTER_KEYWORDS = [\"hillfort\", \"enclosure\"]  # @param {\"allow-input\":true}\n"
      ],
      "metadata": {
        "id": "1fnFowtk0GyX"
      },
      "execution_count": null,
      "outputs": []
    },
    {
      "cell_type": "markdown",
      "source": [
        "Here we define the model we are using. Usually it is not required to change this."
      ],
      "metadata": {
        "id": "CNhvfGftlOAM"
      }
    },
    {
      "cell_type": "code",
      "source": [
        "MODEL_ID=\"gemini-2.0-flash\" # @param [\"gemini-2.0-flash-lite\",\"gemini-2.0-flash\",\"gemini-2.5-pro-exp-03-25\"] {\"allow-input\":true, isTemplate: true}\n",
        "\n",
        "# here we determine the RPM of these models (RPM = Requests Per Minute)\n",
        "if \"lite\" in MODEL_ID:           RPM = 30\n",
        "elif \"experimental\" in MODEL_ID: RPM = 10\n",
        "else:                            RPM = 15 # \"flash\""
      ],
      "metadata": {
        "id": "BgU53fR9wFIl"
      },
      "execution_count": null,
      "outputs": []
    },
    {
      "cell_type": "markdown",
      "source": [
        "## We load the data and unzip it into the directory 'input'"
      ],
      "metadata": {
        "id": "d5T9IqkTHa_t"
      }
    },
    {
      "cell_type": "code",
      "source": [
        "!rm -rf input output file.zip\n",
        "!mkdir -p input/\n",
        "!wget -O file.zip \"$INPUT_ZIP_URL\"\n",
        "!unzip -q file.zip -d input"
      ],
      "metadata": {
        "colab": {
          "base_uri": "https://localhost:8080/"
        },
        "id": "Z-bmrrBbHTFD",
        "outputId": "73dd6aaf-24a1-42bc-9c38-03d55cd6b4d9"
      },
      "execution_count": null,
      "outputs": [
        {
          "output_type": "stream",
          "name": "stdout",
          "text": [
            "--2025-04-22 09:48:04--  https://www.dropbox.com/scl/fi/uuirq92v5evwy8znojxje/sites.zip?rlkey=xycrlu44gdqmo5k5j439tzca7&dl=0\n",
            "Resolving www.dropbox.com (www.dropbox.com)... 162.125.5.18, 2620:100:601d:18::a27d:512\n",
            "Connecting to www.dropbox.com (www.dropbox.com)|162.125.5.18|:443... connected.\n",
            "HTTP request sent, awaiting response... 302 Found\n",
            "Location: https://uc59dcb5ad1d0b2cdd8c908f29ba.dl.dropboxusercontent.com/cd/0/inline/CoTzDEdlS2aN4TcLlxsJGK8vFPc52XgTaPDE0PKzYAAeGAqwEfs0RCpOSQogNR46aDxOOdX04vWd-Ja2jzIisIAEP9jH9z4Enhpff0XxcZHAWIPk-K2RgJGhknhQpYoS1w0/file# [following]\n",
            "--2025-04-22 09:48:05--  https://uc59dcb5ad1d0b2cdd8c908f29ba.dl.dropboxusercontent.com/cd/0/inline/CoTzDEdlS2aN4TcLlxsJGK8vFPc52XgTaPDE0PKzYAAeGAqwEfs0RCpOSQogNR46aDxOOdX04vWd-Ja2jzIisIAEP9jH9z4Enhpff0XxcZHAWIPk-K2RgJGhknhQpYoS1w0/file\n",
            "Resolving uc59dcb5ad1d0b2cdd8c908f29ba.dl.dropboxusercontent.com (uc59dcb5ad1d0b2cdd8c908f29ba.dl.dropboxusercontent.com)... 162.125.5.15, 2620:100:601d:15::a27d:50f\n",
            "Connecting to uc59dcb5ad1d0b2cdd8c908f29ba.dl.dropboxusercontent.com (uc59dcb5ad1d0b2cdd8c908f29ba.dl.dropboxusercontent.com)|162.125.5.15|:443... connected.\n",
            "HTTP request sent, awaiting response... 302 Found\n",
            "Location: /cd/0/inline2/CoQ8eHOmLFXFsO3A_gNvDsTLTKeAfuB0WUSPQpHoYWcXrYU2rtwOjveoLlTnfzHf7OGYkuI6N46B1DZrvHyMeJwQkIHV3i0Q1NOgoJS3TdsIyUHwe3by8lSq1j1CACUIPlrMBH0a6LlBHrdCGcANubjHfvvfvb85TzXCgL0EbKUAfDcnm6J0nOwvwJ4S4fn5txtPoT0rVeej9zJ48dY5jbGOmYH3URFMt7Fzr8NTOfFpNHdl6Nnt4O4PWXHhEZj-93mL9V5gJ4_rEFGvEte3dFCeHTeidqKWBf4Lc2ETw1aJ0wS5U8NBC9Fd8HNuqrfsZ6pXAQfccbLQd6R_7SHXnOH_FZjtYoIjFEQ4yW9u9l-qGw/file [following]\n",
            "--2025-04-22 09:48:05--  https://uc59dcb5ad1d0b2cdd8c908f29ba.dl.dropboxusercontent.com/cd/0/inline2/CoQ8eHOmLFXFsO3A_gNvDsTLTKeAfuB0WUSPQpHoYWcXrYU2rtwOjveoLlTnfzHf7OGYkuI6N46B1DZrvHyMeJwQkIHV3i0Q1NOgoJS3TdsIyUHwe3by8lSq1j1CACUIPlrMBH0a6LlBHrdCGcANubjHfvvfvb85TzXCgL0EbKUAfDcnm6J0nOwvwJ4S4fn5txtPoT0rVeej9zJ48dY5jbGOmYH3URFMt7Fzr8NTOfFpNHdl6Nnt4O4PWXHhEZj-93mL9V5gJ4_rEFGvEte3dFCeHTeidqKWBf4Lc2ETw1aJ0wS5U8NBC9Fd8HNuqrfsZ6pXAQfccbLQd6R_7SHXnOH_FZjtYoIjFEQ4yW9u9l-qGw/file\n",
            "Reusing existing connection to uc59dcb5ad1d0b2cdd8c908f29ba.dl.dropboxusercontent.com:443.\n",
            "HTTP request sent, awaiting response... 200 OK\n",
            "Length: 56072141 (53M) [application/zip]\n",
            "Saving to: ‘file.zip’\n",
            "\n",
            "file.zip            100%[===================>]  53.47M  72.7MB/s    in 0.7s    \n",
            "\n",
            "2025-04-22 09:48:07 (72.7 MB/s) - ‘file.zip’ saved [56072141/56072141]\n",
            "\n"
          ]
        }
      ]
    },
    {
      "cell_type": "markdown",
      "source": [
        "### we now import some libraries"
      ],
      "metadata": {
        "id": "fYvXD4rvEEQP"
      }
    },
    {
      "cell_type": "code",
      "source": [
        "import numpy as np\n",
        "import os\n",
        "from osgeo import gdal\n",
        "import cv2 as cv\n",
        "import PIL.Image\n",
        "import matplotlib.pyplot as plt\n",
        "from glob import glob\n",
        "from pathlib import Path\n",
        "import time\n",
        "from tqdm import tqdm\n",
        "from google.colab import files as colabfiles\n",
        "import json\n",
        "import random\n",
        "import io\n",
        "from PIL import Image, ImageDraw\n",
        "from PIL import ImageColor"
      ],
      "metadata": {
        "id": "7G5Uxbp6EDEK"
      },
      "execution_count": null,
      "outputs": []
    },
    {
      "cell_type": "markdown",
      "source": [
        "### Some utility functions we use"
      ],
      "metadata": {
        "id": "zcxHNk6nmmRd"
      }
    },
    {
      "cell_type": "code",
      "source": [
        "# function to read the images as PIL\n",
        "def read_pil(fpath):\n",
        "  pilimg = PIL.Image.open(fpath)\n",
        "  return pilimg"
      ],
      "metadata": {
        "id": "Bf1ZbZkvg_mQ"
      },
      "execution_count": null,
      "outputs": []
    },
    {
      "cell_type": "code",
      "source": [
        "# modified from https://github.com/google-gemini/cookbook/blob/main/quickstarts/Spatial_understanding.ipynb\n",
        "# function to plot bounding boxes on images\n",
        "def plot_bounding_boxes(img, noun_phrases_and_positions):\n",
        "    width, height = img.size\n",
        "    # Create a drawing object\n",
        "    draw = ImageDraw.Draw(img)\n",
        "\n",
        "    # Iterate over the noun phrases and their positions\n",
        "    for i, (noun_phrase, prob, (y1, x1, y2, x2)) in enumerate(\n",
        "        noun_phrases_and_positions):\n",
        "        # Select a color from the list\n",
        "        #color = colors[i % len(colors)]\n",
        "        color = 'yellow'\n",
        "        #if prob >0.88: color = 'red' else: color = 'blue'\n",
        "\n",
        "        # Convert normalized coordinates to absolute coordinates\n",
        "        abs_x1 = int(x1/1000 * width)\n",
        "        abs_y1 = int(y1/1000 * height)\n",
        "        abs_x2 = int(x2/1000 * width)\n",
        "        abs_y2 = int(y2/1000 * height)\n",
        "\n",
        "        # Ensure x1 <= x2 and y1 <= y2\n",
        "        abs_x1, abs_x2 = sorted([abs_x1, abs_x2])  # Sort x-coordinates\n",
        "        abs_y1, abs_y2 = sorted([abs_y1, abs_y2])  # Sort y-coordinates\n",
        "\n",
        "        # Draw the bounding box\n",
        "        draw.rectangle(\n",
        "            ((abs_x1, abs_y1), (abs_x2, abs_y2)), outline=color, width=4\n",
        "        )\n",
        "\n",
        "        # Draw the text\n",
        "        draw.text((abs_x1 + 8, abs_y1 + 6), noun_phrase, fill=color)\n",
        "\n",
        "    # Display the image\n",
        "    img.show()"
      ],
      "metadata": {
        "id": "Pw7UfuMZPL47"
      },
      "execution_count": null,
      "outputs": []
    },
    {
      "cell_type": "markdown",
      "source": [
        "# process folder"
      ],
      "metadata": {
        "id": "hqncD_OCLXnZ"
      }
    },
    {
      "cell_type": "code",
      "source": [
        "sites = glob('./input/sites/*.*')\n",
        "nonsites = glob('./input/nonsites/*.*')"
      ],
      "metadata": {
        "id": "hh2zNw_MK6-s"
      },
      "execution_count": null,
      "outputs": []
    },
    {
      "cell_type": "code",
      "source": [
        "# uncomment this if you want to try just a small sample of MAX_N for each class\n",
        "#import random\n",
        "#MAX_N = 10\n",
        "\n",
        "#sites = random.sample(sites, MAX_N)\n",
        "#nonsites = random.sample(nonsites, MAX_N)"
      ],
      "metadata": {
        "id": "X14BfYxwAAHG"
      },
      "execution_count": null,
      "outputs": []
    },
    {
      "cell_type": "code",
      "source": [
        "# define the Gemini output format of a 'Detection'\n",
        "from pydantic import BaseModel, TypeAdapter\n",
        "class Detection(BaseModel):\n",
        "  detection_type: str\n",
        "  probability: float\n",
        "  bbox: list[int]"
      ],
      "metadata": {
        "id": "4DpEbr7-qMQD"
      },
      "execution_count": null,
      "outputs": []
    },
    {
      "cell_type": "markdown",
      "source": [
        "### First upload all files to Gemini"
      ],
      "metadata": {
        "id": "u4tnNyXXnM9G"
      }
    },
    {
      "cell_type": "code",
      "source": [
        "files = sites + nonsites\n",
        "\n",
        "refs = []\n",
        "for fpath in tqdm(files):\n",
        "  img = read_pil(fpath)\n",
        "  img.save('./tmp.png')\n",
        "\n",
        "  # Retry logic with exponential backoff\n",
        "  retries = 3\n",
        "  delay = 1\n",
        "  for i in range(retries):\n",
        "    try:\n",
        "      file_ref = client.files.upload(file='./tmp.png')\n",
        "      refs += [file_ref]\n",
        "      break  # Exit retry loop if successful\n",
        "    except ConnectionError as e:\n",
        "      print(f\"Connection error during upload, retrying in {delay} seconds... Attempt {i+1}/{retries}\")\n",
        "      time.sleep(delay)\n",
        "      delay *= 2  # Exponential backoff\n",
        "    except Exception as e:\n",
        "        print(f\"An unexpected error occured: {e}\")\n",
        "        break\n",
        "    else:\n",
        "      print(f\"Failed to upload file after {retries} retries.\")\n",
        "      # You might want to handle this failure, like logging or skipping the file\n"
      ],
      "metadata": {
        "id": "p6w6prt6QaZ9",
        "colab": {
          "base_uri": "https://localhost:8080/"
        },
        "outputId": "6ac2deed-1926-47d7-b4a4-22223b744399"
      },
      "execution_count": null,
      "outputs": [
        {
          "output_type": "stream",
          "name": "stderr",
          "text": [
            "100%|██████████| 679/679 [15:57<00:00,  1.41s/it]\n"
          ]
        }
      ]
    },
    {
      "cell_type": "markdown",
      "source": [
        "## Processing all files with Gemini"
      ],
      "metadata": {
        "id": "6Sg3gTZv4w_O"
      }
    },
    {
      "cell_type": "code",
      "source": [
        "!rm -rf output\n",
        "!mkdir output"
      ],
      "metadata": {
        "id": "I-tCniW3kGXz"
      },
      "execution_count": null,
      "outputs": []
    },
    {
      "cell_type": "code",
      "source": [
        "with open('./output/phrases.txt', 'w') as docfile:\n",
        "  for fref, fpath in zip(refs, files):\n",
        "    response = client.models.generate_content(model = MODEL_ID, contents = [fref, PROMPT],\n",
        "        config={'response_mime_type': 'application/json',\n",
        "                'response_schema': list[Detection]})\n",
        "\n",
        "    print('________________________________________________________')\n",
        "    print(fpath, \"-- response:\", response.text)\n",
        "    objects = json.loads(response.text)\n",
        "\n",
        "    # results visualization\n",
        "    img = read_pil(fpath)\n",
        "    phrases_boxes = []\n",
        "    for item in objects: # for each detection\n",
        "      if 'probability' in item:\n",
        "          prob = item['probability']\n",
        "      else: prob = 0.\n",
        "      #if prob < 0.9: continue # not a valid detection\n",
        "      detection_type = item['detection_type']\n",
        "      if STRICT_RESPONSE_FILTERING and any(element in detection_type for element in FILTER_KEYWORDS):\n",
        "          bbox = item['bbox']\n",
        "          print (detection_type, prob, bbox)\n",
        "          phrases_boxes += [(detection_type+\"_\"+str(prob), float(prob), bbox)]\n",
        "\n",
        "    if phrases_boxes != []:\n",
        "      plot_bounding_boxes(img, noun_phrases_and_positions=phrases_boxes)\n",
        "\n",
        "    filename = Path(fpath).name\n",
        "    img.save(Path('output')/filename)\n",
        "    display(img.resize(size=(384, 384)))\n",
        "    docfile.write(filename + \":\" + str(objects) + os.linesep)\n",
        "    #break\n",
        "    time.sleep(60//RPM + 2) # sleep to meet RPM limit (requests per minute)"
      ],
      "metadata": {
        "id": "spy3QUqhLaav"
      },
      "execution_count": null,
      "outputs": []
    },
    {
      "cell_type": "markdown",
      "source": [
        "## Export results for download\n",
        "We now open a file download dialog for the output.zip. Simply store the output in your local computer. Done :-)\n",
        "\n",
        "output.zip contains all images with bounding box annotations and a file phrases.txt containing the original response from Gemini.\n",
        "\n"
      ],
      "metadata": {
        "id": "bEriipIF22Fb"
      }
    },
    {
      "cell_type": "code",
      "source": [
        "!zip -r output.zip output"
      ],
      "metadata": {
        "id": "wJNheETmcYqY"
      },
      "execution_count": null,
      "outputs": []
    },
    {
      "cell_type": "code",
      "source": [
        "colabfiles.download('output.zip')"
      ],
      "metadata": {
        "id": "AE1-K5HR4Za7",
        "colab": {
          "base_uri": "https://localhost:8080/",
          "height": 17
        },
        "outputId": "d88d3b77-5a73-460c-af1b-bf39bf5ac47f"
      },
      "execution_count": null,
      "outputs": [
        {
          "output_type": "display_data",
          "data": {
            "text/plain": [
              "<IPython.core.display.Javascript object>"
            ],
            "application/javascript": [
              "\n",
              "    async function download(id, filename, size) {\n",
              "      if (!google.colab.kernel.accessAllowed) {\n",
              "        return;\n",
              "      }\n",
              "      const div = document.createElement('div');\n",
              "      const label = document.createElement('label');\n",
              "      label.textContent = `Downloading \"${filename}\": `;\n",
              "      div.appendChild(label);\n",
              "      const progress = document.createElement('progress');\n",
              "      progress.max = size;\n",
              "      div.appendChild(progress);\n",
              "      document.body.appendChild(div);\n",
              "\n",
              "      const buffers = [];\n",
              "      let downloaded = 0;\n",
              "\n",
              "      const channel = await google.colab.kernel.comms.open(id);\n",
              "      // Send a message to notify the kernel that we're ready.\n",
              "      channel.send({})\n",
              "\n",
              "      for await (const message of channel.messages) {\n",
              "        // Send a message to notify the kernel that we're ready.\n",
              "        channel.send({})\n",
              "        if (message.buffers) {\n",
              "          for (const buffer of message.buffers) {\n",
              "            buffers.push(buffer);\n",
              "            downloaded += buffer.byteLength;\n",
              "            progress.value = downloaded;\n",
              "          }\n",
              "        }\n",
              "      }\n",
              "      const blob = new Blob(buffers, {type: 'application/binary'});\n",
              "      const a = document.createElement('a');\n",
              "      a.href = window.URL.createObjectURL(blob);\n",
              "      a.download = filename;\n",
              "      div.appendChild(a);\n",
              "      a.click();\n",
              "      div.remove();\n",
              "    }\n",
              "  "
            ]
          },
          "metadata": {}
        },
        {
          "output_type": "display_data",
          "data": {
            "text/plain": [
              "<IPython.core.display.Javascript object>"
            ],
            "application/javascript": [
              "download(\"download_844b13d0-df0f-494c-9115-84f0516abfe0\", \"output.zip\", 56896398)"
            ]
          },
          "metadata": {}
        }
      ]
    }
  ],
  "metadata": {
    "colab": {
      "provenance": [],
      "include_colab_link": true
    },
    "kernelspec": {
      "display_name": "Python 3",
      "name": "python3"
    }
  },
  "nbformat": 4,
  "nbformat_minor": 0
}